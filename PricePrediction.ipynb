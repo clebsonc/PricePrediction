{
 "cells": [
  {
   "cell_type": "markdown",
   "metadata": {},
   "source": [
    "# Price Prediction\n",
    "\n",
    "In this Python notebook I will demonstrate how to perform all datascience steps in order to better understand and infer the prices of residences in the United States.\n",
    "\n",
    "First of all, let's read some basic libraries that will help us do the necessary work."
   ]
  },
  {
   "cell_type": "code",
   "execution_count": 1,
   "metadata": {
    "collapsed": true
   },
   "outputs": [],
   "source": [
    "from scipy import stats\n",
    "import numpy as np\n",
    "import pandas as pd\n",
    "import multiprocessing as mp\n",
    "import matplotlib.pyplot as plt\n",
    "%matplotlib inline\n",
    "import seaborn as sns\n",
    "sns.set()\n",
    "plt.style.use('seaborn-talk')"
   ]
  },
  {
   "cell_type": "markdown",
   "metadata": {},
   "source": [
    "Now that we have loaded some default python libraries for datascience, let's work upon the dataset analysis. To do this, let's first open the input file into a pandas dataframe named properties."
   ]
  },
  {
   "cell_type": "code",
   "execution_count": 2,
   "metadata": {
    "collapsed": true
   },
   "outputs": [],
   "source": [
    "df_properties = pd.read_csv(\"properties.csv\", sep=',')"
   ]
  },
  {
   "cell_type": "markdown",
   "metadata": {},
   "source": [
    "Let's verify if the file was correctly loaded by showing up the amount of lines and columns for the file. Then let's verify how this dataset looks like by observing the set of features that compose each individual sample."
   ]
  },
  {
   "cell_type": "code",
   "execution_count": 3,
   "metadata": {},
   "outputs": [
    {
     "name": "stdout",
     "output_type": "stream",
     "text": [
      "Lines: 176081, columns: 8\n"
     ]
    },
    {
     "data": {
      "text/html": [
       "<div>\n",
       "<table border=\"1\" class=\"dataframe\">\n",
       "  <thead>\n",
       "    <tr style=\"text-align: right;\">\n",
       "      <th></th>\n",
       "      <th>apn</th>\n",
       "      <th>zip_code</th>\n",
       "      <th>property_type</th>\n",
       "      <th>lot</th>\n",
       "      <th>sqft</th>\n",
       "      <th>beds</th>\n",
       "      <th>baths</th>\n",
       "      <th>price</th>\n",
       "    </tr>\n",
       "  </thead>\n",
       "  <tbody>\n",
       "    <tr>\n",
       "      <th>0</th>\n",
       "      <td>06037-5782020007</td>\n",
       "      <td>91007</td>\n",
       "      <td>residential</td>\n",
       "      <td>20492.0</td>\n",
       "      <td>2991.0</td>\n",
       "      <td>4</td>\n",
       "      <td>2.5</td>\n",
       "      <td>2168000</td>\n",
       "    </tr>\n",
       "    <tr>\n",
       "      <th>1</th>\n",
       "      <td>06037-5436013020</td>\n",
       "      <td>90039</td>\n",
       "      <td>residential</td>\n",
       "      <td>6752.0</td>\n",
       "      <td>1533.0</td>\n",
       "      <td>3</td>\n",
       "      <td>2.0</td>\n",
       "      <td>898000</td>\n",
       "    </tr>\n",
       "    <tr>\n",
       "      <th>2</th>\n",
       "      <td>06037-2549013007</td>\n",
       "      <td>91040</td>\n",
       "      <td>residential</td>\n",
       "      <td>38757.0</td>\n",
       "      <td>3146.0</td>\n",
       "      <td>4</td>\n",
       "      <td>4.0</td>\n",
       "      <td>998999</td>\n",
       "    </tr>\n",
       "    <tr>\n",
       "      <th>3</th>\n",
       "      <td>06059-03318106</td>\n",
       "      <td>92831</td>\n",
       "      <td>residential</td>\n",
       "      <td>6375.0</td>\n",
       "      <td>1364.0</td>\n",
       "      <td>3</td>\n",
       "      <td>1.0</td>\n",
       "      <td>549000</td>\n",
       "    </tr>\n",
       "    <tr>\n",
       "      <th>4</th>\n",
       "      <td>06059-93279051</td>\n",
       "      <td>92637</td>\n",
       "      <td>residential</td>\n",
       "      <td>1700.0</td>\n",
       "      <td>1592.0</td>\n",
       "      <td>3</td>\n",
       "      <td>2.0</td>\n",
       "      <td>699999</td>\n",
       "    </tr>\n",
       "  </tbody>\n",
       "</table>\n",
       "</div>"
      ],
      "text/plain": [
       "                apn zip_code property_type      lot    sqft  beds  baths  \\\n",
       "0  06037-5782020007    91007   residential  20492.0  2991.0     4    2.5   \n",
       "1  06037-5436013020    90039   residential   6752.0  1533.0     3    2.0   \n",
       "2  06037-2549013007    91040   residential  38757.0  3146.0     4    4.0   \n",
       "3    06059-03318106    92831   residential   6375.0  1364.0     3    1.0   \n",
       "4    06059-93279051    92637   residential   1700.0  1592.0     3    2.0   \n",
       "\n",
       "     price  \n",
       "0  2168000  \n",
       "1   898000  \n",
       "2   998999  \n",
       "3   549000  \n",
       "4   699999  "
      ]
     },
     "execution_count": 3,
     "metadata": {},
     "output_type": "execute_result"
    }
   ],
   "source": [
    "print(\"Lines: %s, columns: %s\" % df_properties.shape)\n",
    "df_properties.head(5)"
   ]
  },
  {
   "cell_type": "markdown",
   "metadata": {},
   "source": [
    "As we can observe above, this dataset contains over 176 thousand samples. The set of features that describes the dataset are:\n",
    "* apn: This feature is the property identifier.\n",
    "* zip_code: This feature refers to the region of a given property.\n",
    "* property_type: This feature indentifies the kind of property\n",
    "* lot: This feature is the area of the lot\n",
    "* sqft: This feature describes the square feet of the residence\n",
    "* beds: This refers to the amount of beds in the apartment\n",
    "* baths: This is basically the kinds of bathrooms. This value is the sum of individual bathrooms.\n",
    "* price: This is the price for each individual apartment."
   ]
  },
  {
   "cell_type": "markdown",
   "metadata": {},
   "source": [
    "Now let's try to infer some statistics from this dataset.\n",
    "As we can observe in the bellow code, the type of the property has three different versions: *residential*, *lease* and *residential income*."
   ]
  },
  {
   "cell_type": "code",
   "execution_count": 49,
   "metadata": {},
   "outputs": [
    {
     "data": {
      "image/png": "[encoded data removed]",
      "text/plain": [
       "<matplotlib.figure.Figure at 0x7f76b3e51cf8>"
      ]
     },
     "metadata": {},
     "output_type": "display_data"
    }
   ],
   "source": [
    "qt_prop_type_value = df_properties.groupby(by='property_type').count()['apn'].values\n",
    "qt_prop_type_name = df_properties.groupby(by='property_type').count()['apn'].index.values\n",
    "plt.bar(np.arange(3), qt_prop_type, alpha=0.5)\n",
    "plt.xlabel(\"Property Type\")\n",
    "plt.ylabel(\"Quantity\")\n",
    "a = plt.xticks(np.arange(3), qt_prop_type_name)\n",
    "plt.tight_layout()"
   ]
  },
  {
   "cell_type": "markdown",
   "metadata": {},
   "source": [
    "As we can observe, most of the properties in these dataset belong to the residential type with over $155$ thousand properties.\n",
    "\n",
    "Let's filter this dataset and work only with the set os samples belonging to the residential type. The code to filter these samples is shown bellow:"
   ]
  },
  {
   "cell_type": "code",
   "execution_count": 57,
   "metadata": {},
   "outputs": [
    {
     "name": "stdout",
     "output_type": "stream",
     "text": [
      "New dataframe with 155421 lines and 8 columns\n"
     ]
    }
   ],
   "source": [
    "df_residences = df_properties[df_properties['property_type'] == 'residential']\n",
    "print(\"New dataframe with %s lines and %s columns\" % df_residences.shape)"
   ]
  },
  {
   "cell_type": "markdown",
   "metadata": {},
   "source": [
    "Now that we have filtered out the *residences* from the original dataset, let's verify if there are any samples with missing values:\n"
   ]
  },
  {
   "cell_type": "code",
   "execution_count": 63,
   "metadata": {},
   "outputs": [
    {
     "data": {
      "text/plain": [
       "apn              False\n",
       "zip_code         False\n",
       "property_type    False\n",
       "lot              False\n",
       "sqft             False\n",
       "beds             False\n",
       "baths            False\n",
       "price            False\n",
       "dtype: bool"
      ]
     },
     "execution_count": 63,
     "metadata": {},
     "output_type": "execute_result"
    }
   ],
   "source": [
    "df_residences.isnull().any('index')"
   ]
  },
  {
   "cell_type": "markdown",
   "metadata": {},
   "source": [
    "As we can verify, there is no missing values in this subset, so we can proceed with the statistical analysis of the data before dive into the construction of the Machine Learning models."
   ]
  },
  {
   "cell_type": "markdown",
   "metadata": {},
   "source": [
    "Firstly, let's try to identify if there are more than one residence per area.\n",
    "The first starting point is to just observe the behavior of the data with a box plot and observe the average amount of residences per area (zip_code). After that, let's build a histogram to identify the distribution of samples per area. Let's gather these insights in the following charts:"
   ]
  },
  {
   "cell_type": "code",
   "execution_count": 141,
   "metadata": {
    "collapsed": true
   },
   "outputs": [],
   "source": [
    "res_per_area = df_residences.groupby(by='zip_code', sort=False).count().sort_values(by='apn', ascending=False)"
   ]
  },
  {
   "cell_type": "code",
   "execution_count": 150,
   "metadata": {},
   "outputs": [
    {
     "data": {
      "image/png": "[encoded data removed]",
      "text/plain": [
       "<matplotlib.figure.Figure at 0x7f76b06d5f28>"
      ]
     },
     "metadata": {},
     "output_type": "display_data"
    }
   ],
   "source": [
    "fig, ax = plt.subplots(nrows=1, ncols=3)\n",
    "sns.boxplot(res_per_area['apn'], ax=ax[0], orient='vertical')\n",
    "ax[1].hist(res_per_area['apn'], alpha=0.5, log=True)\n",
    "ax[2].bar(np.arange(10), res_per_area['apn'].values[0:10], alpha=0.5)\n",
    "ax[0].set_ylabel(\"Quantity of residences\")\n",
    "ax[1].set_ylabel(\"Quantity of residences\")\n",
    "ax[2].set_ylabel(\"Quantity of residences\")\n",
    "ax[0].set_xlabel(\"Boxplot\")\n",
    "ax[1].set_xlabel(\"Histogram\")\n",
    "ax[2].set_xlabel(\"Bar\")\n",
    "plt.tight_layout()"
   ]
  },
  {
   "cell_type": "markdown",
   "metadata": {},
   "source": [
    "As we can observe above, the boxplot shows that almost the entire dataset has only a few residences per area and we can even consider that the few zip code areas with over 100 residences can be considered outliers under the box plot perspective. This same observation can be corroborated by looking at the histogram above, which shows that most of the areas contains a single residence, and only a few of the zip code areas have over 100 samples (the first peak of the histogram). The last chart shows the amount of residences for the bigger areas."
   ]
  },
  {
   "cell_type": "code",
   "execution_count": 152,
   "metadata": {},
   "outputs": [
    {
     "data": {
      "text/html": [
       "<div>\n",
       "<table border=\"1\" class=\"dataframe\">\n",
       "  <thead>\n",
       "    <tr style=\"text-align: right;\">\n",
       "      <th></th>\n",
       "      <th>apn</th>\n",
       "      <th>zip_code</th>\n",
       "      <th>property_type</th>\n",
       "      <th>lot</th>\n",
       "      <th>sqft</th>\n",
       "      <th>beds</th>\n",
       "      <th>baths</th>\n",
       "      <th>price</th>\n",
       "    </tr>\n",
       "  </thead>\n",
       "  <tbody>\n",
       "    <tr>\n",
       "      <th>0</th>\n",
       "      <td>06037-5782020007</td>\n",
       "      <td>91007</td>\n",
       "      <td>residential</td>\n",
       "      <td>20492.0</td>\n",
       "      <td>2991.0</td>\n",
       "      <td>4</td>\n",
       "      <td>2.5</td>\n",
       "      <td>2168000</td>\n",
       "    </tr>\n",
       "    <tr>\n",
       "      <th>1</th>\n",
       "      <td>06037-5436013020</td>\n",
       "      <td>90039</td>\n",
       "      <td>residential</td>\n",
       "      <td>6752.0</td>\n",
       "      <td>1533.0</td>\n",
       "      <td>3</td>\n",
       "      <td>2.0</td>\n",
       "      <td>898000</td>\n",
       "    </tr>\n",
       "    <tr>\n",
       "      <th>2</th>\n",
       "      <td>06037-2549013007</td>\n",
       "      <td>91040</td>\n",
       "      <td>residential</td>\n",
       "      <td>38757.0</td>\n",
       "      <td>3146.0</td>\n",
       "      <td>4</td>\n",
       "      <td>4.0</td>\n",
       "      <td>998999</td>\n",
       "    </tr>\n",
       "  </tbody>\n",
       "</table>\n",
       "</div>"
      ],
      "text/plain": [
       "                apn zip_code property_type      lot    sqft  beds  baths  \\\n",
       "0  06037-5782020007    91007   residential  20492.0  2991.0     4    2.5   \n",
       "1  06037-5436013020    90039   residential   6752.0  1533.0     3    2.0   \n",
       "2  06037-2549013007    91040   residential  38757.0  3146.0     4    4.0   \n",
       "\n",
       "     price  \n",
       "0  2168000  \n",
       "1   898000  \n",
       "2   998999  "
      ]
     },
     "execution_count": 152,
     "metadata": {},
     "output_type": "execute_result"
    }
   ],
   "source": [
    "df_residences.head(3)"
   ]
  },
  {
   "cell_type": "markdown",
   "metadata": {},
   "source": [
    "Let's try to understand the behavior for the remaining variables. Let's start by observing the feature beds:"
   ]
  },
  {
   "cell_type": "code",
   "execution_count": 174,
   "metadata": {},
   "outputs": [
    {
     "data": {
      "image/png": "[encoded data removed]",
      "text/plain": [
       "<matplotlib.figure.Figure at 0x7f7687e54a58>"
      ]
     },
     "metadata": {},
     "output_type": "display_data"
    }
   ],
   "source": [
    "fig, ax = plt.subplots(nrows=1, ncols=1)\n",
    "a = sns.boxplot(df_residences['beds'], ax=ax, orient='vertical')"
   ]
  },
  {
   "cell_type": "code",
   "execution_count": 175,
   "metadata": {},
   "outputs": [
    {
     "data": {
      "image/png": "[encoded data removed]",
      "text/plain": [
       "<matplotlib.figure.Figure at 0x7f76b036a4a8>"
      ]
     },
     "metadata": {},
     "output_type": "display_data"
    }
   ],
   "source": [
    "fig, ax = plt.subplots(nrows=1, ncols=1)\n",
    "a = sns.boxplot(df_residences['baths'], ax=ax, orient='vertical')"
   ]
  },
  {
   "cell_type": "code",
   "execution_count": 169,
   "metadata": {},
   "outputs": [
    {
     "data": {
      "text/html": [
       "<div>\n",
       "<table border=\"1\" class=\"dataframe\">\n",
       "  <thead>\n",
       "    <tr style=\"text-align: right;\">\n",
       "      <th></th>\n",
       "      <th>apn</th>\n",
       "      <th>zip_code</th>\n",
       "      <th>property_type</th>\n",
       "      <th>lot</th>\n",
       "      <th>sqft</th>\n",
       "      <th>beds</th>\n",
       "      <th>baths</th>\n",
       "      <th>price</th>\n",
       "    </tr>\n",
       "  </thead>\n",
       "  <tbody>\n",
       "    <tr>\n",
       "      <th>11763</th>\n",
       "      <td>12111-240880101320001</td>\n",
       "      <td>34947</td>\n",
       "      <td>residential</td>\n",
       "      <td>0.0</td>\n",
       "      <td>2004.0</td>\n",
       "      <td>0</td>\n",
       "      <td>900.0</td>\n",
       "      <td>69900</td>\n",
       "    </tr>\n",
       "  </tbody>\n",
       "</table>\n",
       "</div>"
      ],
      "text/plain": [
       "                         apn zip_code property_type  lot    sqft  beds  baths  \\\n",
       "11763  12111-240880101320001    34947   residential  0.0  2004.0     0  900.0   \n",
       "\n",
       "       price  \n",
       "11763  69900  "
      ]
     },
     "execution_count": 169,
     "metadata": {},
     "output_type": "execute_result"
    }
   ],
   "source": [
    "df_residences.query(\"baths > 100\")"
   ]
  }
 ],
 "metadata": {
  "kernelspec": {
   "display_name": "Python 3",
   "language": "python",
   "name": "python3"
  },
  "language_info": {
   "codemirror_mode": {
    "name": "ipython",
    "version": 3
   },
   "file_extension": ".py",
   "mimetype": "text/x-python",
   "name": "python",
   "nbconvert_exporter": "python",
   "pygments_lexer": "ipython3",
   "version": "3.6.0"
  }
 },
 "nbformat": 4,
 "nbformat_minor": 2
}
