{
 "cells": [
  {
   "cell_type": "markdown",
   "metadata": {},
   "source": [
    "# Price Prediction\n",
    "\n",
    "In this Python notebook I will demonstrate how to perform all datascience steps in order to better understand and infer the prices of residences in the United States.\n",
    "\n",
    "First of all, let's read some basic libraries that will help us do the necessary work."
   ]
  },
  {
   "cell_type": "code",
   "execution_count": 1,
   "metadata": {
    "collapsed": true
   },
   "outputs": [],
   "source": [
    "from scipy import stats\n",
    "import numpy as np\n",
    "import pandas as pd\n",
    "import multiprocessing as mp\n",
    "import matplotlib.pyplot as plt\n",
    "%matplotlib inline\n",
    "import seaborn as sns\n",
    "from sklearn.tree import DecisionTreeRegressor\n",
    "from sklearn.ensemble import RandomForestRegressor\n",
    "from sklearn.ensemble import ExtraTreesRegressor\n",
    "from sklearn.ensemble import GradientBoostingRegressor\n",
    "from sklearn.model_selection import train_test_split\n",
    "from sklearn.model_selection import cross_val_predict\n",
    "sns.set()\n",
    "plt.style.use('seaborn-talk')"
   ]
  },
  {
   "cell_type": "markdown",
   "metadata": {},
   "source": [
    "Now that we have loaded some default python libraries for datascience, let's work upon the dataset analysis. To do this, let's first open the input file into a pandas dataframe named properties."
   ]
  },
  {
   "cell_type": "code",
   "execution_count": 2,
   "metadata": {
    "collapsed": true
   },
   "outputs": [],
   "source": [
    "df_properties = pd.read_csv(\"properties.csv\", sep=',')"
   ]
  },
  {
   "cell_type": "markdown",
   "metadata": {},
   "source": [
    "Let's verify if the file was correctly loaded by showing up the amount of lines and columns for the file. Then let's verify how this dataset looks like by observing the set of features that compose each individual sample."
   ]
  },
  {
   "cell_type": "code",
   "execution_count": 3,
   "metadata": {},
   "outputs": [
    {
     "name": "stdout",
     "output_type": "stream",
     "text": [
      "Lines: 176081, columns: 8\n"
     ]
    },
    {
     "data": {
      "text/html": [
       "<div>\n",
       "<style>\n",
       "    .dataframe thead tr:only-child th {\n",
       "        text-align: right;\n",
       "    }\n",
       "\n",
       "    .dataframe thead th {\n",
       "        text-align: left;\n",
       "    }\n",
       "\n",
       "    .dataframe tbody tr th {\n",
       "        vertical-align: top;\n",
       "    }\n",
       "</style>\n",
       "<table border=\"1\" class=\"dataframe\">\n",
       "  <thead>\n",
       "    <tr style=\"text-align: right;\">\n",
       "      <th></th>\n",
       "      <th>apn</th>\n",
       "      <th>zip_code</th>\n",
       "      <th>property_type</th>\n",
       "      <th>lot</th>\n",
       "      <th>sqft</th>\n",
       "      <th>beds</th>\n",
       "      <th>baths</th>\n",
       "      <th>price</th>\n",
       "    </tr>\n",
       "  </thead>\n",
       "  <tbody>\n",
       "    <tr>\n",
       "      <th>0</th>\n",
       "      <td>06037-5782020007</td>\n",
       "      <td>91007</td>\n",
       "      <td>residential</td>\n",
       "      <td>20492.0</td>\n",
       "      <td>2991.0</td>\n",
       "      <td>4</td>\n",
       "      <td>2.5</td>\n",
       "      <td>2168000</td>\n",
       "    </tr>\n",
       "    <tr>\n",
       "      <th>1</th>\n",
       "      <td>06037-5436013020</td>\n",
       "      <td>90039</td>\n",
       "      <td>residential</td>\n",
       "      <td>6752.0</td>\n",
       "      <td>1533.0</td>\n",
       "      <td>3</td>\n",
       "      <td>2.0</td>\n",
       "      <td>898000</td>\n",
       "    </tr>\n",
       "    <tr>\n",
       "      <th>2</th>\n",
       "      <td>06037-2549013007</td>\n",
       "      <td>91040</td>\n",
       "      <td>residential</td>\n",
       "      <td>38757.0</td>\n",
       "      <td>3146.0</td>\n",
       "      <td>4</td>\n",
       "      <td>4.0</td>\n",
       "      <td>998999</td>\n",
       "    </tr>\n",
       "    <tr>\n",
       "      <th>3</th>\n",
       "      <td>06059-03318106</td>\n",
       "      <td>92831</td>\n",
       "      <td>residential</td>\n",
       "      <td>6375.0</td>\n",
       "      <td>1364.0</td>\n",
       "      <td>3</td>\n",
       "      <td>1.0</td>\n",
       "      <td>549000</td>\n",
       "    </tr>\n",
       "    <tr>\n",
       "      <th>4</th>\n",
       "      <td>06059-93279051</td>\n",
       "      <td>92637</td>\n",
       "      <td>residential</td>\n",
       "      <td>1700.0</td>\n",
       "      <td>1592.0</td>\n",
       "      <td>3</td>\n",
       "      <td>2.0</td>\n",
       "      <td>699999</td>\n",
       "    </tr>\n",
       "  </tbody>\n",
       "</table>\n",
       "</div>"
      ],
      "text/plain": [
       "                apn zip_code property_type      lot    sqft  beds  baths  \\\n",
       "0  06037-5782020007    91007   residential  20492.0  2991.0     4    2.5   \n",
       "1  06037-5436013020    90039   residential   6752.0  1533.0     3    2.0   \n",
       "2  06037-2549013007    91040   residential  38757.0  3146.0     4    4.0   \n",
       "3    06059-03318106    92831   residential   6375.0  1364.0     3    1.0   \n",
       "4    06059-93279051    92637   residential   1700.0  1592.0     3    2.0   \n",
       "\n",
       "     price  \n",
       "0  2168000  \n",
       "1   898000  \n",
       "2   998999  \n",
       "3   549000  \n",
       "4   699999  "
      ]
     },
     "execution_count": 3,
     "metadata": {},
     "output_type": "execute_result"
    }
   ],
   "source": [
    "print(\"Lines: %s, columns: %s\" % df_properties.shape)\n",
    "df_properties.head(5)"
   ]
  },
  {
   "cell_type": "markdown",
   "metadata": {},
   "source": [
    "As we can observe above, this dataset contains over 176 thousand samples. The set of features that describes the dataset are:\n",
    "* apn: This feature is the property identifier.\n",
    "* zip_code: This feature refers to the region of a given property.\n",
    "* property_type: This feature indentifies the kind of property\n",
    "* lot: This feature is the area of the lot\n",
    "* sqft: This feature describes the square feet of the residence\n",
    "* beds: This refers to the amount of beds in the apartment\n",
    "* baths: This is basically the kinds of bathrooms. This value is the sum of individual bathrooms.\n",
    "* price: This is the price for each individual apartment."
   ]
  },
  {
   "cell_type": "markdown",
   "metadata": {},
   "source": [
    "Now let's try to infer some statistics from this dataset.\n",
    "As we can observe in the bellow code, the type of the property has three different versions: *residential*, *lease* and *residential income*."
   ]
  },
  {
   "cell_type": "code",
   "execution_count": 4,
   "metadata": {},
   "outputs": [
    {
     "data": {
      "image/png": "[encoded data removed]",
      "text/plain": [
       "<matplotlib.figure.Figure at 0x7f06e5399978>"
      ]
     },
     "metadata": {},
     "output_type": "display_data"
    }
   ],
   "source": [
    "qt_prop_type_value = df_properties.groupby(by='property_type').count()['apn'].values\n",
    "qt_prop_type_name = df_properties.groupby(by='property_type').count()['apn'].index.values\n",
    "plt.bar(np.arange(3), qt_prop_type_value, alpha=0.5)\n",
    "plt.xlabel(\"Property Type\")\n",
    "plt.ylabel(\"Quantity\")\n",
    "a = plt.xticks(np.arange(3), qt_prop_type_name)\n",
    "plt.tight_layout()"
   ]
  },
  {
   "cell_type": "markdown",
   "metadata": {},
   "source": [
    "As we can observe, most of the properties in these dataset belong to the residential type with over $155$ thousand properties.\n",
    "\n",
    "Let's filter this dataset and work only with the set os samples belonging to the residential type. The code to filter these samples is shown bellow:"
   ]
  },
  {
   "cell_type": "code",
   "execution_count": 5,
   "metadata": {},
   "outputs": [
    {
     "name": "stdout",
     "output_type": "stream",
     "text": [
      "New dataframe with 155421 lines and 8 columns\n"
     ]
    }
   ],
   "source": [
    "df_residences = df_properties[df_properties['property_type'] == 'residential']\n",
    "print(\"New dataframe with %s lines and %s columns\" % df_residences.shape)"
   ]
  },
  {
   "cell_type": "markdown",
   "metadata": {},
   "source": [
    "Now that we have filtered out the *residences* from the original dataset, let's verify if there are any samples with missing:\n"
   ]
  },
  {
   "cell_type": "code",
   "execution_count": 6,
   "metadata": {},
   "outputs": [
    {
     "data": {
      "text/plain": [
       "apn              False\n",
       "zip_code         False\n",
       "property_type    False\n",
       "lot              False\n",
       "sqft             False\n",
       "beds             False\n",
       "baths            False\n",
       "price            False\n",
       "dtype: bool"
      ]
     },
     "execution_count": 6,
     "metadata": {},
     "output_type": "execute_result"
    }
   ],
   "source": [
    "df_residences.isnull().any('index')"
   ]
  },
  {
   "cell_type": "markdown",
   "metadata": {},
   "source": [
    "As we can verify, there is no missing values in this subset, so we can proceed with the statistical analysis of the data before dive into the construction of Machine Learning models."
   ]
  },
  {
   "cell_type": "markdown",
   "metadata": {},
   "source": [
    "Firstly, let's try to identify if there are more than one residence per area.\n",
    "The first starting point is to just observe the behavior of the data with a box plot and observe the average amount of residences per area (zip_code). After that, let's build a histogram to identify the distribution of samples per area. Let's gather these insights in the following charts:"
   ]
  },
  {
   "cell_type": "code",
   "execution_count": 7,
   "metadata": {
    "collapsed": true
   },
   "outputs": [],
   "source": [
    "res_per_area = df_residences.groupby(by='zip_code', sort=False).count().sort_values(by='apn', ascending=False)"
   ]
  },
  {
   "cell_type": "code",
   "execution_count": 8,
   "metadata": {},
   "outputs": [
    {
     "data": {
      "image/png": "[encoded data removed]",
      "text/plain": [
       "<matplotlib.figure.Figure at 0x7f06e6fcf2b0>"
      ]
     },
     "metadata": {},
     "output_type": "display_data"
    }
   ],
   "source": [
    "plt.rcParams[\"figure.figsize\"] = (15, 5)\n",
    "fig, ax = plt.subplots(nrows=1, ncols=3)\n",
    "sns.boxplot(res_per_area['apn'], ax=ax[0], orient='vertical')\n",
    "ax[1].hist(res_per_area['apn'], alpha=0.5, log=True)\n",
    "ax[2].bar(np.arange(10), res_per_area['apn'].values[0:10], alpha=0.5)\n",
    "ax[0].set_ylabel(\"Quantity of residences\")\n",
    "ax[1].set_ylabel(\"Quantity of residences\")\n",
    "ax[2].set_ylabel(\"Quantity of residences\")\n",
    "ax[0].set_xlabel(\"Boxplot\")\n",
    "ax[1].set_xlabel(\"Histogram\")\n",
    "ax[2].set_xlabel(\"Bar\")\n",
    "plt.tight_layout()"
   ]
  },
  {
   "cell_type": "markdown",
   "metadata": {},
   "source": [
    "As we can observe above, the boxplot shows that almost the entire dataset has only a few residences per area and we can even consider that the few zip code areas with over 100 residences can be considered outliers under the box plot perspective. This same observation can be corroborated by looking at the histogram (log scale), which shows that most of the areas contains just a few residences (less than 100), and only a few of the zip code areas have over 100 residences. The last chart shows the amount of residences for the bigger areas."
   ]
  },
  {
   "cell_type": "code",
   "execution_count": 9,
   "metadata": {},
   "outputs": [
    {
     "data": {
      "text/html": [
       "<div>\n",
       "<style>\n",
       "    .dataframe thead tr:only-child th {\n",
       "        text-align: right;\n",
       "    }\n",
       "\n",
       "    .dataframe thead th {\n",
       "        text-align: left;\n",
       "    }\n",
       "\n",
       "    .dataframe tbody tr th {\n",
       "        vertical-align: top;\n",
       "    }\n",
       "</style>\n",
       "<table border=\"1\" class=\"dataframe\">\n",
       "  <thead>\n",
       "    <tr style=\"text-align: right;\">\n",
       "      <th></th>\n",
       "      <th>apn</th>\n",
       "      <th>zip_code</th>\n",
       "      <th>property_type</th>\n",
       "      <th>lot</th>\n",
       "      <th>sqft</th>\n",
       "      <th>beds</th>\n",
       "      <th>baths</th>\n",
       "      <th>price</th>\n",
       "    </tr>\n",
       "  </thead>\n",
       "  <tbody>\n",
       "    <tr>\n",
       "      <th>0</th>\n",
       "      <td>06037-5782020007</td>\n",
       "      <td>91007</td>\n",
       "      <td>residential</td>\n",
       "      <td>20492.0</td>\n",
       "      <td>2991.0</td>\n",
       "      <td>4</td>\n",
       "      <td>2.5</td>\n",
       "      <td>2168000</td>\n",
       "    </tr>\n",
       "    <tr>\n",
       "      <th>1</th>\n",
       "      <td>06037-5436013020</td>\n",
       "      <td>90039</td>\n",
       "      <td>residential</td>\n",
       "      <td>6752.0</td>\n",
       "      <td>1533.0</td>\n",
       "      <td>3</td>\n",
       "      <td>2.0</td>\n",
       "      <td>898000</td>\n",
       "    </tr>\n",
       "    <tr>\n",
       "      <th>2</th>\n",
       "      <td>06037-2549013007</td>\n",
       "      <td>91040</td>\n",
       "      <td>residential</td>\n",
       "      <td>38757.0</td>\n",
       "      <td>3146.0</td>\n",
       "      <td>4</td>\n",
       "      <td>4.0</td>\n",
       "      <td>998999</td>\n",
       "    </tr>\n",
       "  </tbody>\n",
       "</table>\n",
       "</div>"
      ],
      "text/plain": [
       "                apn zip_code property_type      lot    sqft  beds  baths  \\\n",
       "0  06037-5782020007    91007   residential  20492.0  2991.0     4    2.5   \n",
       "1  06037-5436013020    90039   residential   6752.0  1533.0     3    2.0   \n",
       "2  06037-2549013007    91040   residential  38757.0  3146.0     4    4.0   \n",
       "\n",
       "     price  \n",
       "0  2168000  \n",
       "1   898000  \n",
       "2   998999  "
      ]
     },
     "execution_count": 9,
     "metadata": {},
     "output_type": "execute_result"
    }
   ],
   "source": [
    "df_residences.head(3)"
   ]
  },
  {
   "cell_type": "markdown",
   "metadata": {},
   "source": [
    "As we noted in the previous analysis, the box plot is a great tool to identify the data distribution considering the interquantile ranges. Let's use this great tool one more time to grasp the behavior for the remaining variables. Let's start by observing the feature **beds** and **baths**:"
   ]
  },
  {
   "cell_type": "code",
   "execution_count": 10,
   "metadata": {},
   "outputs": [
    {
     "data": {
      "text/plain": [
       "<matplotlib.text.Text at 0x7f06e21a40b8>"
      ]
     },
     "execution_count": 10,
     "metadata": {},
     "output_type": "execute_result"
    },
    {
     "data": {
      "image/png": "[encoded data removed]",
      "text/plain": [
       "<matplotlib.figure.Figure at 0x7f06e22245f8>"
      ]
     },
     "metadata": {},
     "output_type": "display_data"
    }
   ],
   "source": [
    "plt.rcParams[\"figure.figsize\"] = (15, 5)\n",
    "fig, ax = plt.subplots(nrows=1, ncols=2)\n",
    "a = sns.boxplot(df_residences['beds'], ax=ax[0], orient='vertical')\n",
    "a = sns.boxplot(df_residences['baths'], ax=ax[1], orient='vertical')\n",
    "ax[0].set_ylabel(\"Number of bedrooms\")\n",
    "ax[1].set_ylabel(\"Number of bathrooms\")"
   ]
  },
  {
   "cell_type": "code",
   "execution_count": 11,
   "metadata": {},
   "outputs": [
    {
     "data": {
      "text/html": [
       "<div>\n",
       "<style>\n",
       "    .dataframe thead tr:only-child th {\n",
       "        text-align: right;\n",
       "    }\n",
       "\n",
       "    .dataframe thead th {\n",
       "        text-align: left;\n",
       "    }\n",
       "\n",
       "    .dataframe tbody tr th {\n",
       "        vertical-align: top;\n",
       "    }\n",
       "</style>\n",
       "<table border=\"1\" class=\"dataframe\">\n",
       "  <thead>\n",
       "    <tr style=\"text-align: right;\">\n",
       "      <th></th>\n",
       "      <th>apn</th>\n",
       "      <th>zip_code</th>\n",
       "      <th>property_type</th>\n",
       "      <th>lot</th>\n",
       "      <th>sqft</th>\n",
       "      <th>beds</th>\n",
       "      <th>baths</th>\n",
       "      <th>price</th>\n",
       "    </tr>\n",
       "  </thead>\n",
       "  <tbody>\n",
       "    <tr>\n",
       "      <th>88066</th>\n",
       "      <td>12119-031924001000001500</td>\n",
       "      <td>34731</td>\n",
       "      <td>residential</td>\n",
       "      <td>0.19</td>\n",
       "      <td>1512.0</td>\n",
       "      <td>36</td>\n",
       "      <td>2.00</td>\n",
       "      <td>160700</td>\n",
       "    </tr>\n",
       "    <tr>\n",
       "      <th>131999</th>\n",
       "      <td>06071-0482223240000</td>\n",
       "      <td>92395</td>\n",
       "      <td>residential</td>\n",
       "      <td>7200.00</td>\n",
       "      <td>1572.0</td>\n",
       "      <td>32</td>\n",
       "      <td>2.00</td>\n",
       "      <td>235000</td>\n",
       "    </tr>\n",
       "    <tr>\n",
       "      <th>136737</th>\n",
       "      <td>06037-7317018155</td>\n",
       "      <td>90810</td>\n",
       "      <td>residential</td>\n",
       "      <td>4041.00</td>\n",
       "      <td>1500.0</td>\n",
       "      <td>31</td>\n",
       "      <td>1.75</td>\n",
       "      <td>299000</td>\n",
       "    </tr>\n",
       "  </tbody>\n",
       "</table>\n",
       "</div>"
      ],
      "text/plain": [
       "                             apn zip_code property_type      lot    sqft  \\\n",
       "88066   12119-031924001000001500    34731   residential     0.19  1512.0   \n",
       "131999       06071-0482223240000    92395   residential  7200.00  1572.0   \n",
       "136737          06037-7317018155    90810   residential  4041.00  1500.0   \n",
       "\n",
       "        beds  baths   price  \n",
       "88066     36   2.00  160700  \n",
       "131999    32   2.00  235000  \n",
       "136737    31   1.75  299000  "
      ]
     },
     "execution_count": 11,
     "metadata": {},
     "output_type": "execute_result"
    }
   ],
   "source": [
    "df_residences.query(\"beds > 30\")"
   ]
  },
  {
   "cell_type": "markdown",
   "metadata": {},
   "source": [
    "As we can observe, the boxplot on the left shows the distribution of beds per residence. As we may observe in this chart, the second and third quartile allows us to see that $\\approx50\\%$ of the residences contains $4$ bedrooms. The first quartile shows that $\\approx25\\%$ of the data contains $2$ bedrooms, while the fourth quartile allow us to see that the remaing $25\\%$ percent of the data contains around $5$ bedrooms per residence. We can also visualize in this chart that there are a only few residences with none or with over $6$ bedrooms up to the maximum of $36$ bedrooms per residence.\n",
    "\n",
    "The box plot in the right shows that most of the data seems to be flattened near zero with an outlier containing a huge number of bathrooms. By investigating this single residence a little deeper in the code bellow, we can observe that this residence has a lot of $0$, a squared feet area of $2004$, zero bedrooms, and 900 bathrooms with a price of 69900."
   ]
  },
  {
   "cell_type": "code",
   "execution_count": 12,
   "metadata": {},
   "outputs": [
    {
     "data": {
      "text/html": [
       "<div>\n",
       "<style>\n",
       "    .dataframe thead tr:only-child th {\n",
       "        text-align: right;\n",
       "    }\n",
       "\n",
       "    .dataframe thead th {\n",
       "        text-align: left;\n",
       "    }\n",
       "\n",
       "    .dataframe tbody tr th {\n",
       "        vertical-align: top;\n",
       "    }\n",
       "</style>\n",
       "<table border=\"1\" class=\"dataframe\">\n",
       "  <thead>\n",
       "    <tr style=\"text-align: right;\">\n",
       "      <th></th>\n",
       "      <th>apn</th>\n",
       "      <th>zip_code</th>\n",
       "      <th>property_type</th>\n",
       "      <th>lot</th>\n",
       "      <th>sqft</th>\n",
       "      <th>beds</th>\n",
       "      <th>baths</th>\n",
       "      <th>price</th>\n",
       "    </tr>\n",
       "  </thead>\n",
       "  <tbody>\n",
       "    <tr>\n",
       "      <th>11763</th>\n",
       "      <td>12111-240880101320001</td>\n",
       "      <td>34947</td>\n",
       "      <td>residential</td>\n",
       "      <td>0.0</td>\n",
       "      <td>2004.0</td>\n",
       "      <td>0</td>\n",
       "      <td>900.0</td>\n",
       "      <td>69900</td>\n",
       "    </tr>\n",
       "  </tbody>\n",
       "</table>\n",
       "</div>"
      ],
      "text/plain": [
       "                         apn zip_code property_type  lot    sqft  beds  baths  \\\n",
       "11763  12111-240880101320001    34947   residential  0.0  2004.0     0  900.0   \n",
       "\n",
       "       price  \n",
       "11763  69900  "
      ]
     },
     "execution_count": 12,
     "metadata": {},
     "output_type": "execute_result"
    }
   ],
   "source": [
    "df_residences.query(\"baths > 100\")"
   ]
  },
  {
   "cell_type": "markdown",
   "metadata": {},
   "source": [
    "The boxplot bellow shows the amount of bathrooms per residence after removing the aforementioned outlier. As we can observe, the second and third quartile of the boxplot indicates that $\\approx50\\%$ of residences has around 2 and 3 bathrooms. The fourth quartile allows us to see that $\\approx25\\%$ of the residences contains between 4 and 5 bathrooms while the remaining $\\approx25\\%$ of the residences contains 1 bathroom. Its possible to see as weel that a few remaining residences contains over $5$ bathrooms up to the maximum of $45$ bathrooms. It's also possible to ponder that there are some few residences with zero bathrooms that can be considered outliers. We can use the knowledge of knowing these outliers to build more sofisticated models that take them into consideration. For example, by ackowleging they existence, we can build estimators that are able to keep focus in these hard regions of the input space (some boosting procedure) or simple ignoring these hard to predict regions removing these samples from the dataset."
   ]
  },
  {
   "cell_type": "code",
   "execution_count": 13,
   "metadata": {},
   "outputs": [
    {
     "data": {
      "image/png": "[encoded data removed]",
      "text/plain": [
       "<matplotlib.figure.Figure at 0x7f06e1d99a20>"
      ]
     },
     "metadata": {},
     "output_type": "display_data"
    }
   ],
   "source": [
    "sns.boxplot(df_residences.query(\"baths <= 100\")['baths'], orient='horizon')\n",
    "a= plt.xticks(np.arange(0, 46, 1), np.arange(0, 46, 1))"
   ]
  },
  {
   "cell_type": "markdown",
   "metadata": {},
   "source": [
    "Folowing up the analysis for the remaining features **lot**, **sqft**, and **price** we can note that the they do contains some few outliers samples in the dataset. As it's possible to observe in the box plot for the three variables bellow, all of them have a single sample (residence) that is very apart from the the remaining ones:"
   ]
  },
  {
   "cell_type": "code",
   "execution_count": 14,
   "metadata": {},
   "outputs": [
    {
     "data": {
      "image/png": "[encoded data removed]",
      "text/plain": [
       "<matplotlib.figure.Figure at 0x7f06e1d915f8>"
      ]
     },
     "metadata": {},
     "output_type": "display_data"
    }
   ],
   "source": [
    "plt.rcParams['figure.figsize'] = (15, 5)\n",
    "fig, ax = plt.subplots(nrows=1, ncols=3)\n",
    "sns.boxplot(df_residences['lot'], ax=ax[0], orient='vertical')\n",
    "sns.boxplot(df_residences['sqft'], ax=ax[1], orient='vertical')\n",
    "sns.boxplot(df_residences['price'], ax=ax[2], orient='vertical')\n",
    "ax[0].set_xlabel('Area of the Lot')\n",
    "ax[1].set_xlabel('Squared Feet Area')\n",
    "ax[2].set_xlabel('Price')\n",
    "plt.tight_layout()"
   ]
  },
  {
   "cell_type": "markdown",
   "metadata": {},
   "source": [
    "Since the **sqft** and **price** features have the most outstanding outlier (more apart from the reamining ones), let's identify them and replot the boxplot for these two features. The first 10 residences sorted by each feature is shown the the two following tables."
   ]
  },
  {
   "cell_type": "code",
   "execution_count": 15,
   "metadata": {},
   "outputs": [
    {
     "data": {
      "text/html": [
       "<div>\n",
       "<style>\n",
       "    .dataframe thead tr:only-child th {\n",
       "        text-align: right;\n",
       "    }\n",
       "\n",
       "    .dataframe thead th {\n",
       "        text-align: left;\n",
       "    }\n",
       "\n",
       "    .dataframe tbody tr th {\n",
       "        vertical-align: top;\n",
       "    }\n",
       "</style>\n",
       "<table border=\"1\" class=\"dataframe\">\n",
       "  <thead>\n",
       "    <tr style=\"text-align: right;\">\n",
       "      <th></th>\n",
       "      <th>apn</th>\n",
       "      <th>zip_code</th>\n",
       "      <th>property_type</th>\n",
       "      <th>lot</th>\n",
       "      <th>sqft</th>\n",
       "      <th>beds</th>\n",
       "      <th>baths</th>\n",
       "      <th>price</th>\n",
       "    </tr>\n",
       "  </thead>\n",
       "  <tbody>\n",
       "    <tr>\n",
       "      <th>65879</th>\n",
       "      <td>29167-073208000000012000</td>\n",
       "      <td>65613</td>\n",
       "      <td>residential</td>\n",
       "      <td>5.86</td>\n",
       "      <td>26002700.0</td>\n",
       "      <td>3</td>\n",
       "      <td>3.0</td>\n",
       "      <td>159900</td>\n",
       "    </tr>\n",
       "    <tr>\n",
       "      <th>34529</th>\n",
       "      <td>13313-2733608040</td>\n",
       "      <td>30740</td>\n",
       "      <td>residential</td>\n",
       "      <td>1.18</td>\n",
       "      <td>231227.0</td>\n",
       "      <td>4</td>\n",
       "      <td>4.0</td>\n",
       "      <td>165000</td>\n",
       "    </tr>\n",
       "    <tr>\n",
       "      <th>65218</th>\n",
       "      <td>51680-10155400</td>\n",
       "      <td>24551</td>\n",
       "      <td>residential</td>\n",
       "      <td>0.73</td>\n",
       "      <td>153414.0</td>\n",
       "      <td>4</td>\n",
       "      <td>3.0</td>\n",
       "      <td>254900</td>\n",
       "    </tr>\n",
       "    <tr>\n",
       "      <th>67987</th>\n",
       "      <td>06071-0309221050000</td>\n",
       "      <td>92315</td>\n",
       "      <td>residential</td>\n",
       "      <td>92752.00</td>\n",
       "      <td>92752.0</td>\n",
       "      <td>14</td>\n",
       "      <td>14.0</td>\n",
       "      <td>1795000</td>\n",
       "    </tr>\n",
       "    <tr>\n",
       "      <th>64542</th>\n",
       "      <td>06071-0309221050000</td>\n",
       "      <td>92315</td>\n",
       "      <td>residential</td>\n",
       "      <td>0.00</td>\n",
       "      <td>92752.0</td>\n",
       "      <td>14</td>\n",
       "      <td>14.0</td>\n",
       "      <td>1825000</td>\n",
       "    </tr>\n",
       "    <tr>\n",
       "      <th>44844</th>\n",
       "      <td>39037-B0602140200003030</td>\n",
       "      <td>45348</td>\n",
       "      <td>residential</td>\n",
       "      <td>1.70</td>\n",
       "      <td>74052.0</td>\n",
       "      <td>2</td>\n",
       "      <td>2.0</td>\n",
       "      <td>140000</td>\n",
       "    </tr>\n",
       "    <tr>\n",
       "      <th>27772</th>\n",
       "      <td>45079-170820207</td>\n",
       "      <td>29223</td>\n",
       "      <td>residential</td>\n",
       "      <td>0.00</td>\n",
       "      <td>57828.0</td>\n",
       "      <td>2</td>\n",
       "      <td>2.0</td>\n",
       "      <td>35000</td>\n",
       "    </tr>\n",
       "    <tr>\n",
       "      <th>102209</th>\n",
       "      <td>06037-2327018032</td>\n",
       "      <td>91605</td>\n",
       "      <td>residential</td>\n",
       "      <td>79973.00</td>\n",
       "      <td>45020.0</td>\n",
       "      <td>1</td>\n",
       "      <td>1.0</td>\n",
       "      <td>190000</td>\n",
       "    </tr>\n",
       "    <tr>\n",
       "      <th>823</th>\n",
       "      <td>06079-013381025</td>\n",
       "      <td>93428</td>\n",
       "      <td>residential</td>\n",
       "      <td>1264111.00</td>\n",
       "      <td>37500.0</td>\n",
       "      <td>12</td>\n",
       "      <td>14.5</td>\n",
       "      <td>55000000</td>\n",
       "    </tr>\n",
       "    <tr>\n",
       "      <th>6610</th>\n",
       "      <td>13117-072123</td>\n",
       "      <td>30028-6931</td>\n",
       "      <td>residential</td>\n",
       "      <td>0.64</td>\n",
       "      <td>31180.0</td>\n",
       "      <td>4</td>\n",
       "      <td>4.0</td>\n",
       "      <td>399877</td>\n",
       "    </tr>\n",
       "  </tbody>\n",
       "</table>\n",
       "</div>"
      ],
      "text/plain": [
       "                             apn    zip_code property_type         lot  \\\n",
       "65879   29167-073208000000012000       65613   residential        5.86   \n",
       "34529           13313-2733608040       30740   residential        1.18   \n",
       "65218             51680-10155400       24551   residential        0.73   \n",
       "67987        06071-0309221050000       92315   residential    92752.00   \n",
       "64542        06071-0309221050000       92315   residential        0.00   \n",
       "44844    39037-B0602140200003030       45348   residential        1.70   \n",
       "27772            45079-170820207       29223   residential        0.00   \n",
       "102209          06037-2327018032       91605   residential    79973.00   \n",
       "823              06079-013381025       93428   residential  1264111.00   \n",
       "6610                13117-072123  30028-6931   residential        0.64   \n",
       "\n",
       "              sqft  beds  baths     price  \n",
       "65879   26002700.0     3    3.0    159900  \n",
       "34529     231227.0     4    4.0    165000  \n",
       "65218     153414.0     4    3.0    254900  \n",
       "67987      92752.0    14   14.0   1795000  \n",
       "64542      92752.0    14   14.0   1825000  \n",
       "44844      74052.0     2    2.0    140000  \n",
       "27772      57828.0     2    2.0     35000  \n",
       "102209     45020.0     1    1.0    190000  \n",
       "823        37500.0    12   14.5  55000000  \n",
       "6610       31180.0     4    4.0    399877  "
      ]
     },
     "execution_count": 15,
     "metadata": {},
     "output_type": "execute_result"
    }
   ],
   "source": [
    "df_residences.sort_values(by='sqft', ascending=False)[0:10]"
   ]
  },
  {
   "cell_type": "markdown",
   "metadata": {},
   "source": [
    "Let's try to identify if this residences are the same for all 5 variables:"
   ]
  },
  {
   "cell_type": "code",
   "execution_count": 16,
   "metadata": {},
   "outputs": [
    {
     "data": {
      "text/html": [
       "<div>\n",
       "<style>\n",
       "    .dataframe thead tr:only-child th {\n",
       "        text-align: right;\n",
       "    }\n",
       "\n",
       "    .dataframe thead th {\n",
       "        text-align: left;\n",
       "    }\n",
       "\n",
       "    .dataframe tbody tr th {\n",
       "        vertical-align: top;\n",
       "    }\n",
       "</style>\n",
       "<table border=\"1\" class=\"dataframe\">\n",
       "  <thead>\n",
       "    <tr style=\"text-align: right;\">\n",
       "      <th></th>\n",
       "      <th>apn</th>\n",
       "      <th>zip_code</th>\n",
       "      <th>property_type</th>\n",
       "      <th>lot</th>\n",
       "      <th>sqft</th>\n",
       "      <th>beds</th>\n",
       "      <th>baths</th>\n",
       "      <th>price</th>\n",
       "    </tr>\n",
       "  </thead>\n",
       "  <tbody>\n",
       "    <tr>\n",
       "      <th>99284</th>\n",
       "      <td>06037-8529012114</td>\n",
       "      <td>91010</td>\n",
       "      <td>residential</td>\n",
       "      <td>99999.00</td>\n",
       "      <td>100.0</td>\n",
       "      <td>30</td>\n",
       "      <td>45.00</td>\n",
       "      <td>999999000</td>\n",
       "    </tr>\n",
       "    <tr>\n",
       "      <th>90601</th>\n",
       "      <td>45063-00311601045</td>\n",
       "      <td>29054</td>\n",
       "      <td>residential</td>\n",
       "      <td>0.96</td>\n",
       "      <td>3322.0</td>\n",
       "      <td>5</td>\n",
       "      <td>4.00</td>\n",
       "      <td>475000000</td>\n",
       "    </tr>\n",
       "    <tr>\n",
       "      <th>95268</th>\n",
       "      <td>06073-4463610406</td>\n",
       "      <td>92104</td>\n",
       "      <td>residential</td>\n",
       "      <td>0.00</td>\n",
       "      <td>1209.0</td>\n",
       "      <td>3</td>\n",
       "      <td>2.00</td>\n",
       "      <td>474900000</td>\n",
       "    </tr>\n",
       "    <tr>\n",
       "      <th>114620</th>\n",
       "      <td>06079-033312003</td>\n",
       "      <td>93465</td>\n",
       "      <td>residential</td>\n",
       "      <td>3637260.00</td>\n",
       "      <td>0.0</td>\n",
       "      <td>9</td>\n",
       "      <td>7.50</td>\n",
       "      <td>135000000</td>\n",
       "    </tr>\n",
       "    <tr>\n",
       "      <th>52487</th>\n",
       "      <td>45079-042040204</td>\n",
       "      <td>29063</td>\n",
       "      <td>residential</td>\n",
       "      <td>0.00</td>\n",
       "      <td>1387.0</td>\n",
       "      <td>3</td>\n",
       "      <td>2.00</td>\n",
       "      <td>129900000</td>\n",
       "    </tr>\n",
       "    <tr>\n",
       "      <th>17554</th>\n",
       "      <td>06071-0473342060000</td>\n",
       "      <td>92307</td>\n",
       "      <td>residential</td>\n",
       "      <td>0.51</td>\n",
       "      <td>2700.0</td>\n",
       "      <td>4</td>\n",
       "      <td>4.00</td>\n",
       "      <td>82000075</td>\n",
       "    </tr>\n",
       "    <tr>\n",
       "      <th>53364</th>\n",
       "      <td>06073-06031116</td>\n",
       "      <td>92672</td>\n",
       "      <td>residential</td>\n",
       "      <td>237358.00</td>\n",
       "      <td>15000.0</td>\n",
       "      <td>9</td>\n",
       "      <td>11.75</td>\n",
       "      <td>63500000</td>\n",
       "    </tr>\n",
       "    <tr>\n",
       "      <th>83580</th>\n",
       "      <td>45079-1450117014000</td>\n",
       "      <td>29180</td>\n",
       "      <td>residential</td>\n",
       "      <td>0.25</td>\n",
       "      <td>1200.0</td>\n",
       "      <td>3</td>\n",
       "      <td>2.00</td>\n",
       "      <td>59950000</td>\n",
       "    </tr>\n",
       "    <tr>\n",
       "      <th>84354</th>\n",
       "      <td>06059-47309102</td>\n",
       "      <td>92657</td>\n",
       "      <td>residential</td>\n",
       "      <td>0.00</td>\n",
       "      <td>17000.0</td>\n",
       "      <td>8</td>\n",
       "      <td>17.00</td>\n",
       "      <td>55000000</td>\n",
       "    </tr>\n",
       "    <tr>\n",
       "      <th>823</th>\n",
       "      <td>06079-013381025</td>\n",
       "      <td>93428</td>\n",
       "      <td>residential</td>\n",
       "      <td>1264111.00</td>\n",
       "      <td>37500.0</td>\n",
       "      <td>12</td>\n",
       "      <td>14.50</td>\n",
       "      <td>55000000</td>\n",
       "    </tr>\n",
       "  </tbody>\n",
       "</table>\n",
       "</div>"
      ],
      "text/plain": [
       "                        apn zip_code property_type         lot     sqft  beds  \\\n",
       "99284      06037-8529012114    91010   residential    99999.00    100.0    30   \n",
       "90601     45063-00311601045    29054   residential        0.96   3322.0     5   \n",
       "95268      06073-4463610406    92104   residential        0.00   1209.0     3   \n",
       "114620      06079-033312003    93465   residential  3637260.00      0.0     9   \n",
       "52487       45079-042040204    29063   residential        0.00   1387.0     3   \n",
       "17554   06071-0473342060000    92307   residential        0.51   2700.0     4   \n",
       "53364        06073-06031116    92672   residential   237358.00  15000.0     9   \n",
       "83580   45079-1450117014000    29180   residential        0.25   1200.0     3   \n",
       "84354        06059-47309102    92657   residential        0.00  17000.0     8   \n",
       "823         06079-013381025    93428   residential  1264111.00  37500.0    12   \n",
       "\n",
       "        baths      price  \n",
       "99284   45.00  999999000  \n",
       "90601    4.00  475000000  \n",
       "95268    2.00  474900000  \n",
       "114620   7.50  135000000  \n",
       "52487    2.00  129900000  \n",
       "17554    4.00   82000075  \n",
       "53364   11.75   63500000  \n",
       "83580    2.00   59950000  \n",
       "84354   17.00   55000000  \n",
       "823     14.50   55000000  "
      ]
     },
     "execution_count": 16,
     "metadata": {},
     "output_type": "execute_result"
    }
   ],
   "source": [
    "df_residences.sort_values(by='price', ascending=False)[0:10]"
   ]
  },
  {
   "cell_type": "markdown",
   "metadata": {},
   "source": [
    "# Building a model"
   ]
  },
  {
   "cell_type": "markdown",
   "metadata": {},
   "source": [
    "## Feature Engeneering: One-hot encoding"
   ]
  },
  {
   "cell_type": "code",
   "execution_count": 17,
   "metadata": {},
   "outputs": [
    {
     "data": {
      "text/html": [
       "<div>\n",
       "<style>\n",
       "    .dataframe thead tr:only-child th {\n",
       "        text-align: right;\n",
       "    }\n",
       "\n",
       "    .dataframe thead th {\n",
       "        text-align: left;\n",
       "    }\n",
       "\n",
       "    .dataframe tbody tr th {\n",
       "        vertical-align: top;\n",
       "    }\n",
       "</style>\n",
       "<table border=\"1\" class=\"dataframe\">\n",
       "  <thead>\n",
       "    <tr style=\"text-align: right;\">\n",
       "      <th></th>\n",
       "      <th>apn</th>\n",
       "      <th>zip_code</th>\n",
       "      <th>property_type</th>\n",
       "      <th>lot</th>\n",
       "      <th>sqft</th>\n",
       "      <th>beds</th>\n",
       "      <th>baths</th>\n",
       "      <th>price</th>\n",
       "    </tr>\n",
       "  </thead>\n",
       "  <tbody>\n",
       "    <tr>\n",
       "      <th>0</th>\n",
       "      <td>06037-5782020007</td>\n",
       "      <td>91007</td>\n",
       "      <td>residential</td>\n",
       "      <td>20492.0</td>\n",
       "      <td>2991.0</td>\n",
       "      <td>4</td>\n",
       "      <td>2.5</td>\n",
       "      <td>2168000</td>\n",
       "    </tr>\n",
       "    <tr>\n",
       "      <th>1</th>\n",
       "      <td>06037-5436013020</td>\n",
       "      <td>90039</td>\n",
       "      <td>residential</td>\n",
       "      <td>6752.0</td>\n",
       "      <td>1533.0</td>\n",
       "      <td>3</td>\n",
       "      <td>2.0</td>\n",
       "      <td>898000</td>\n",
       "    </tr>\n",
       "    <tr>\n",
       "      <th>2</th>\n",
       "      <td>06037-2549013007</td>\n",
       "      <td>91040</td>\n",
       "      <td>residential</td>\n",
       "      <td>38757.0</td>\n",
       "      <td>3146.0</td>\n",
       "      <td>4</td>\n",
       "      <td>4.0</td>\n",
       "      <td>998999</td>\n",
       "    </tr>\n",
       "    <tr>\n",
       "      <th>3</th>\n",
       "      <td>06059-03318106</td>\n",
       "      <td>92831</td>\n",
       "      <td>residential</td>\n",
       "      <td>6375.0</td>\n",
       "      <td>1364.0</td>\n",
       "      <td>3</td>\n",
       "      <td>1.0</td>\n",
       "      <td>549000</td>\n",
       "    </tr>\n",
       "    <tr>\n",
       "      <th>4</th>\n",
       "      <td>06059-93279051</td>\n",
       "      <td>92637</td>\n",
       "      <td>residential</td>\n",
       "      <td>1700.0</td>\n",
       "      <td>1592.0</td>\n",
       "      <td>3</td>\n",
       "      <td>2.0</td>\n",
       "      <td>699999</td>\n",
       "    </tr>\n",
       "  </tbody>\n",
       "</table>\n",
       "</div>"
      ],
      "text/plain": [
       "                apn zip_code property_type      lot    sqft  beds  baths  \\\n",
       "0  06037-5782020007    91007   residential  20492.0  2991.0     4    2.5   \n",
       "1  06037-5436013020    90039   residential   6752.0  1533.0     3    2.0   \n",
       "2  06037-2549013007    91040   residential  38757.0  3146.0     4    4.0   \n",
       "3    06059-03318106    92831   residential   6375.0  1364.0     3    1.0   \n",
       "4    06059-93279051    92637   residential   1700.0  1592.0     3    2.0   \n",
       "\n",
       "     price  \n",
       "0  2168000  \n",
       "1   898000  \n",
       "2   998999  \n",
       "3   549000  \n",
       "4   699999  "
      ]
     },
     "execution_count": 17,
     "metadata": {},
     "output_type": "execute_result"
    }
   ],
   "source": [
    "df_residences.head(5)"
   ]
  },
  {
   "cell_type": "code",
   "execution_count": 18,
   "metadata": {
    "collapsed": true
   },
   "outputs": [],
   "source": [
    "X = df_residences.drop(['apn', 'property_type'], axis=1)"
   ]
  },
  {
   "cell_type": "code",
   "execution_count": 19,
   "metadata": {},
   "outputs": [
    {
     "data": {
      "text/html": [
       "<div>\n",
       "<style>\n",
       "    .dataframe thead tr:only-child th {\n",
       "        text-align: right;\n",
       "    }\n",
       "\n",
       "    .dataframe thead th {\n",
       "        text-align: left;\n",
       "    }\n",
       "\n",
       "    .dataframe tbody tr th {\n",
       "        vertical-align: top;\n",
       "    }\n",
       "</style>\n",
       "<table border=\"1\" class=\"dataframe\">\n",
       "  <thead>\n",
       "    <tr style=\"text-align: right;\">\n",
       "      <th></th>\n",
       "      <th>zip_code</th>\n",
       "      <th>lot</th>\n",
       "      <th>sqft</th>\n",
       "      <th>beds</th>\n",
       "      <th>baths</th>\n",
       "      <th>price</th>\n",
       "    </tr>\n",
       "  </thead>\n",
       "  <tbody>\n",
       "    <tr>\n",
       "      <th>0</th>\n",
       "      <td>91007</td>\n",
       "      <td>20492.0</td>\n",
       "      <td>2991.0</td>\n",
       "      <td>4</td>\n",
       "      <td>2.5</td>\n",
       "      <td>2168000</td>\n",
       "    </tr>\n",
       "    <tr>\n",
       "      <th>1</th>\n",
       "      <td>90039</td>\n",
       "      <td>6752.0</td>\n",
       "      <td>1533.0</td>\n",
       "      <td>3</td>\n",
       "      <td>2.0</td>\n",
       "      <td>898000</td>\n",
       "    </tr>\n",
       "    <tr>\n",
       "      <th>2</th>\n",
       "      <td>91040</td>\n",
       "      <td>38757.0</td>\n",
       "      <td>3146.0</td>\n",
       "      <td>4</td>\n",
       "      <td>4.0</td>\n",
       "      <td>998999</td>\n",
       "    </tr>\n",
       "    <tr>\n",
       "      <th>3</th>\n",
       "      <td>92831</td>\n",
       "      <td>6375.0</td>\n",
       "      <td>1364.0</td>\n",
       "      <td>3</td>\n",
       "      <td>1.0</td>\n",
       "      <td>549000</td>\n",
       "    </tr>\n",
       "    <tr>\n",
       "      <th>4</th>\n",
       "      <td>92637</td>\n",
       "      <td>1700.0</td>\n",
       "      <td>1592.0</td>\n",
       "      <td>3</td>\n",
       "      <td>2.0</td>\n",
       "      <td>699999</td>\n",
       "    </tr>\n",
       "  </tbody>\n",
       "</table>\n",
       "</div>"
      ],
      "text/plain": [
       "  zip_code      lot    sqft  beds  baths    price\n",
       "0    91007  20492.0  2991.0     4    2.5  2168000\n",
       "1    90039   6752.0  1533.0     3    2.0   898000\n",
       "2    91040  38757.0  3146.0     4    4.0   998999\n",
       "3    92831   6375.0  1364.0     3    1.0   549000\n",
       "4    92637   1700.0  1592.0     3    2.0   699999"
      ]
     },
     "execution_count": 19,
     "metadata": {},
     "output_type": "execute_result"
    }
   ],
   "source": [
    "X.head(5)"
   ]
  },
  {
   "cell_type": "code",
   "execution_count": 20,
   "metadata": {},
   "outputs": [
    {
     "data": {
      "text/plain": [
       "(155421, 6)"
      ]
     },
     "execution_count": 20,
     "metadata": {},
     "output_type": "execute_result"
    }
   ],
   "source": [
    "X.shape"
   ]
  },
  {
   "cell_type": "code",
   "execution_count": 21,
   "metadata": {
    "collapsed": true
   },
   "outputs": [],
   "source": [
    "hot_encoding = pd.get_dummies(X['zip_code'])"
   ]
  },
  {
   "cell_type": "code",
   "execution_count": 22,
   "metadata": {},
   "outputs": [
    {
     "data": {
      "text/plain": [
       "(155421, 11566)"
      ]
     },
     "execution_count": 22,
     "metadata": {},
     "output_type": "execute_result"
    }
   ],
   "source": [
    "hot_encoding.shape"
   ]
  },
  {
   "cell_type": "code",
   "execution_count": 23,
   "metadata": {
    "collapsed": true
   },
   "outputs": [],
   "source": [
    "X = X.drop('zip_code', axis=1)"
   ]
  },
  {
   "cell_type": "code",
   "execution_count": 24,
   "metadata": {
    "collapsed": true
   },
   "outputs": [],
   "source": [
    "X = X.join(hot_encoding)"
   ]
  },
  {
   "cell_type": "code",
   "execution_count": 25,
   "metadata": {},
   "outputs": [
    {
     "data": {
      "text/html": [
       "<div>\n",
       "<style>\n",
       "    .dataframe thead tr:only-child th {\n",
       "        text-align: right;\n",
       "    }\n",
       "\n",
       "    .dataframe thead th {\n",
       "        text-align: left;\n",
       "    }\n",
       "\n",
       "    .dataframe tbody tr th {\n",
       "        vertical-align: top;\n",
       "    }\n",
       "</style>\n",
       "<table border=\"1\" class=\"dataframe\">\n",
       "  <thead>\n",
       "    <tr style=\"text-align: right;\">\n",
       "      <th></th>\n",
       "      <th>lot</th>\n",
       "      <th>sqft</th>\n",
       "      <th>beds</th>\n",
       "      <th>baths</th>\n",
       "      <th>price</th>\n",
       "      <th>02814</th>\n",
       "      <th>02886</th>\n",
       "      <th>06001</th>\n",
       "      <th>06010</th>\n",
       "      <th>06016</th>\n",
       "      <th>...</th>\n",
       "      <th>99212-0506</th>\n",
       "      <th>99216</th>\n",
       "      <th>99216-0309</th>\n",
       "      <th>99216-0939</th>\n",
       "      <th>99217</th>\n",
       "      <th>99218</th>\n",
       "      <th>99218-1054</th>\n",
       "      <th>99223</th>\n",
       "      <th>99224</th>\n",
       "      <th>99224-8568</th>\n",
       "    </tr>\n",
       "  </thead>\n",
       "  <tbody>\n",
       "    <tr>\n",
       "      <th>0</th>\n",
       "      <td>20492.0</td>\n",
       "      <td>2991.0</td>\n",
       "      <td>4</td>\n",
       "      <td>2.5</td>\n",
       "      <td>2168000</td>\n",
       "      <td>0</td>\n",
       "      <td>0</td>\n",
       "      <td>0</td>\n",
       "      <td>0</td>\n",
       "      <td>0</td>\n",
       "      <td>...</td>\n",
       "      <td>0</td>\n",
       "      <td>0</td>\n",
       "      <td>0</td>\n",
       "      <td>0</td>\n",
       "      <td>0</td>\n",
       "      <td>0</td>\n",
       "      <td>0</td>\n",
       "      <td>0</td>\n",
       "      <td>0</td>\n",
       "      <td>0</td>\n",
       "    </tr>\n",
       "    <tr>\n",
       "      <th>1</th>\n",
       "      <td>6752.0</td>\n",
       "      <td>1533.0</td>\n",
       "      <td>3</td>\n",
       "      <td>2.0</td>\n",
       "      <td>898000</td>\n",
       "      <td>0</td>\n",
       "      <td>0</td>\n",
       "      <td>0</td>\n",
       "      <td>0</td>\n",
       "      <td>0</td>\n",
       "      <td>...</td>\n",
       "      <td>0</td>\n",
       "      <td>0</td>\n",
       "      <td>0</td>\n",
       "      <td>0</td>\n",
       "      <td>0</td>\n",
       "      <td>0</td>\n",
       "      <td>0</td>\n",
       "      <td>0</td>\n",
       "      <td>0</td>\n",
       "      <td>0</td>\n",
       "    </tr>\n",
       "    <tr>\n",
       "      <th>2</th>\n",
       "      <td>38757.0</td>\n",
       "      <td>3146.0</td>\n",
       "      <td>4</td>\n",
       "      <td>4.0</td>\n",
       "      <td>998999</td>\n",
       "      <td>0</td>\n",
       "      <td>0</td>\n",
       "      <td>0</td>\n",
       "      <td>0</td>\n",
       "      <td>0</td>\n",
       "      <td>...</td>\n",
       "      <td>0</td>\n",
       "      <td>0</td>\n",
       "      <td>0</td>\n",
       "      <td>0</td>\n",
       "      <td>0</td>\n",
       "      <td>0</td>\n",
       "      <td>0</td>\n",
       "      <td>0</td>\n",
       "      <td>0</td>\n",
       "      <td>0</td>\n",
       "    </tr>\n",
       "  </tbody>\n",
       "</table>\n",
       "<p>3 rows × 11571 columns</p>\n",
       "</div>"
      ],
      "text/plain": [
       "       lot    sqft  beds  baths    price  02814  02886  06001  06010  06016  \\\n",
       "0  20492.0  2991.0     4    2.5  2168000      0      0      0      0      0   \n",
       "1   6752.0  1533.0     3    2.0   898000      0      0      0      0      0   \n",
       "2  38757.0  3146.0     4    4.0   998999      0      0      0      0      0   \n",
       "\n",
       "      ...      99212-0506  99216  99216-0309  99216-0939  99217  99218  \\\n",
       "0     ...               0      0           0           0      0      0   \n",
       "1     ...               0      0           0           0      0      0   \n",
       "2     ...               0      0           0           0      0      0   \n",
       "\n",
       "   99218-1054  99223  99224  99224-8568  \n",
       "0           0      0      0           0  \n",
       "1           0      0      0           0  \n",
       "2           0      0      0           0  \n",
       "\n",
       "[3 rows x 11571 columns]"
      ]
     },
     "execution_count": 25,
     "metadata": {},
     "output_type": "execute_result"
    }
   ],
   "source": [
    "X.head(3)"
   ]
  },
  {
   "cell_type": "code",
   "execution_count": 26,
   "metadata": {
    "collapsed": true
   },
   "outputs": [],
   "source": [
    "y = X['price']"
   ]
  },
  {
   "cell_type": "code",
   "execution_count": 27,
   "metadata": {
    "collapsed": true
   },
   "outputs": [],
   "source": [
    "X = X.drop('price', axis=1)"
   ]
  },
  {
   "cell_type": "markdown",
   "metadata": {},
   "source": [
    "## Model Validation: Holdout Sets"
   ]
  },
  {
   "cell_type": "code",
   "execution_count": 28,
   "metadata": {
    "collapsed": true
   },
   "outputs": [],
   "source": [
    "x_train, x_test, y_train, y_test = train_test_split(X, y, random_state=0, train_size=0.7)"
   ]
  },
  {
   "cell_type": "code",
   "execution_count": 29,
   "metadata": {
    "collapsed": true
   },
   "outputs": [],
   "source": [
    "model0 = DecisionTreeRegressor(criterion='mse',\n",
    "                               splitter='best',\n",
    "                               max_depth=None,\n",
    "                               min_samples_split=2,\n",
    "                               min_samples_leaf=1,\n",
    "                               max_leaf_nodes=None)"
   ]
  },
  {
   "cell_type": "code",
   "execution_count": 30,
   "metadata": {
    "collapsed": true
   },
   "outputs": [],
   "source": [
    "model1 = RandomForestRegressor(n_estimators=100,\n",
    "                               criterion='mse',\n",
    "                               max_features=\"sqrt\",\n",
    "                               max_depth=None,\n",
    "                               min_samples_split=2,\n",
    "                               min_samples_leaf=1,\n",
    "                               bootstrap=True,\n",
    "                               oob_score=True,\n",
    "                               n_jobs=-1,\n",
    "                               random_state=1,\n",
    "                               verbose=0)"
   ]
  },
  {
   "cell_type": "code",
   "execution_count": 31,
   "metadata": {
    "collapsed": true
   },
   "outputs": [],
   "source": [
    "model2 = ExtraTreesRegressor(n_estimators=100,\n",
    "                             criterion='mse',\n",
    "                             max_depth=None,\n",
    "                             min_samples_split=2,\n",
    "                             min_samples_leaf=1,\n",
    "                             max_features='sqrt',\n",
    "                             bootstrap=True,\n",
    "                             oob_score=True,\n",
    "                             n_jobs=-1,\n",
    "                             random_state=1, \n",
    "                             verbose=False)"
   ]
  },
  {
   "cell_type": "code",
   "execution_count": 32,
   "metadata": {
    "collapsed": true
   },
   "outputs": [],
   "source": [
    "model3 = GradientBoostingRegressor(loss='ls',\n",
    "                                   learning_rate=0.1,\n",
    "                                   n_estimators=100,\n",
    "                                   min_samples_split=2,\n",
    "                                   min_samples_leaf=1,\n",
    "                                   max_depth=3)"
   ]
  },
  {
   "cell_type": "code",
   "execution_count": 33,
   "metadata": {},
   "outputs": [
    {
     "data": {
      "text/plain": [
       "DecisionTreeRegressor(criterion='mse', max_depth=None, max_features=None,\n",
       "           max_leaf_nodes=None, min_impurity_split=1e-07,\n",
       "           min_samples_leaf=1, min_samples_split=2,\n",
       "           min_weight_fraction_leaf=0.0, presort=False, random_state=None,\n",
       "           splitter='best')"
      ]
     },
     "execution_count": 33,
     "metadata": {},
     "output_type": "execute_result"
    }
   ],
   "source": [
    "model0.fit(X=x_train, y=y_train)"
   ]
  },
  {
   "cell_type": "code",
   "execution_count": 34,
   "metadata": {},
   "outputs": [
    {
     "data": {
      "text/plain": [
       "RandomForestRegressor(bootstrap=True, criterion='mse', max_depth=None,\n",
       "           max_features='sqrt', max_leaf_nodes=None,\n",
       "           min_impurity_split=1e-07, min_samples_leaf=1,\n",
       "           min_samples_split=2, min_weight_fraction_leaf=0.0,\n",
       "           n_estimators=100, n_jobs=-1, oob_score=True, random_state=1,\n",
       "           verbose=0, warm_start=False)"
      ]
     },
     "execution_count": 34,
     "metadata": {},
     "output_type": "execute_result"
    }
   ],
   "source": [
    "model1.fit(X=x_train, y=y_train)"
   ]
  },
  {
   "cell_type": "code",
   "execution_count": 35,
   "metadata": {},
   "outputs": [
    {
     "data": {
      "text/plain": [
       "ExtraTreesRegressor(bootstrap=True, criterion='mse', max_depth=None,\n",
       "          max_features='sqrt', max_leaf_nodes=None,\n",
       "          min_impurity_split=1e-07, min_samples_leaf=1,\n",
       "          min_samples_split=2, min_weight_fraction_leaf=0.0,\n",
       "          n_estimators=100, n_jobs=-1, oob_score=True, random_state=1,\n",
       "          verbose=False, warm_start=False)"
      ]
     },
     "execution_count": 35,
     "metadata": {},
     "output_type": "execute_result"
    }
   ],
   "source": [
    "model2.fit(X=x_train, y=y_train)"
   ]
  },
  {
   "cell_type": "code",
   "execution_count": 36,
   "metadata": {
    "collapsed": true
   },
   "outputs": [],
   "source": [
    "result_model0 = model0.predict(x_test)\n",
    "result_model1 = model1.predict(x_test)\n",
    "result_model2 = model2.predict(x_test)"
   ]
  },
  {
   "cell_type": "markdown",
   "metadata": {},
   "source": [
    "Let's use the Mean Absolute Percentage Error to identify how good the model is. Since the sklearn does not have this specific metric implemented, let's implement it according to the [Wikipedia](https://en.wikipedia.org/wiki/Mean_absolute_percentage_error) descritpion."
   ]
  },
  {
   "cell_type": "code",
   "execution_count": 37,
   "metadata": {
    "collapsed": true
   },
   "outputs": [],
   "source": [
    "def weightedAbsolutePercentageError(y_true, y_pred):\n",
    "    y_true = np.array(y_true)\n",
    "    y_pred = np.array(y_pred)\n",
    "    absolute_diff = np.abs(y_true - y_pred)\n",
    "    diff_sum = np.sum(absolute_diff)\n",
    "    total_sum = np.sum(y_true)\n",
    "    return diff_sum / total_sum"
   ]
  },
  {
   "cell_type": "code",
   "execution_count": 38,
   "metadata": {
    "collapsed": true
   },
   "outputs": [],
   "source": [
    "def meanAbsolutePercentageError(y_true, y_pred):\n",
    "    y_true = np.array(y_true)\n",
    "    y_pred = np.array(y_pred)\n",
    "    difference = y_true - y_pred\n",
    "    absolute_diff = np.abs(difference / y_true)\n",
    "    mean = np.mean(absolute_diff)\n",
    "    return mean*100"
   ]
  },
  {
   "cell_type": "code",
   "execution_count": 39,
   "metadata": {},
   "outputs": [
    {
     "name": "stdout",
     "output_type": "stream",
     "text": [
      "Predictions Decision Tree 65.5266654021\n",
      "Predictions Random Forests 74.3466934738\n",
      "Predictions Extra Trees Regressor 76.107605734\n"
     ]
    }
   ],
   "source": [
    "print(\"Predictions Decision Tree %s\" % (100*(1-weightedAbsolutePercentageError(y_test, result_model0))))\n",
    "print(\"Predictions Random Forests %s\" % (100*(1-weightedAbsolutePercentageError(y_test, result_model1))))\n",
    "print(\"Predictions Extra Trees Regressor %s\" % (100*(1-weightedAbsolutePercentageError(y_test, result_model2))))"
   ]
  },
  {
   "cell_type": "markdown",
   "metadata": {},
   "source": [
    "## Model Validation: Cross Validation"
   ]
  },
  {
   "cell_type": "code",
   "execution_count": 40,
   "metadata": {},
   "outputs": [],
   "source": [
    "result_cv_model0 = cross_val_predict(model0, X=X, y=y, cv=5)"
   ]
  },
  {
   "cell_type": "code",
   "execution_count": 41,
   "metadata": {},
   "outputs": [],
   "source": [
    "result_cv_model1 = cross_val_predict(model1, X=X, y=y, cv=5)"
   ]
  },
  {
   "cell_type": "code",
   "execution_count": 42,
   "metadata": {
    "collapsed": true
   },
   "outputs": [],
   "source": [
    "result_cv_model2 = cross_val_predict(model2, X=X, y=y, cv=5)"
   ]
  },
  {
   "cell_type": "code",
   "execution_count": 43,
   "metadata": {},
   "outputs": [
    {
     "name": "stdout",
     "output_type": "stream",
     "text": [
      "Predictions Decision Tree 60.2658657332\n",
      "Predictions Random Forests 71.7938611092\n",
      "Predictions Extra Trees Regressor 73.706041867\n"
     ]
    }
   ],
   "source": [
    "print(\"Predictions Decision Tree %s\" % (100*(1-weightedAbsolutePercentageError(y, result_cv_model0))))\n",
    "print(\"Predictions Random Forests %s\" % (100*(1-weightedAbsolutePercentageError(y, result_cv_model1))))\n",
    "print(\"Predictions Extra Trees Regressor %s\" % (100*(1-weightedAbsolutePercentageError(y, result_cv_model2))))"
   ]
  },
  {
   "cell_type": "code",
   "execution_count": null,
   "metadata": {
    "collapsed": true
   },
   "outputs": [],
   "source": []
  }
 ],
 "metadata": {
  "kernelspec": {
   "display_name": "Python 3",
   "language": "python",
   "name": "python3"
  },
  "language_info": {
   "codemirror_mode": {
    "name": "ipython",
    "version": 3
   },
   "file_extension": ".py",
   "mimetype": "text/x-python",
   "name": "python",
   "nbconvert_exporter": "python",
   "pygments_lexer": "ipython3",
   "version": "3.6.1"
  }
 },
 "nbformat": 4,
 "nbformat_minor": 2
}
