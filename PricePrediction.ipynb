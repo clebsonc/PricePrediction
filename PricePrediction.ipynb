{
 "cells": [
  {
   "cell_type": "markdown",
   "metadata": {},
   "source": [
    "# Price Prediction\n",
    "\n",
    "In this Python notebook I will demonstrate how to perform all datascience steps in order to better understand and infer the prices of residences in the United States.\n",
    "\n",
    "First of all, let's read some basic libraries that will help us do the necessary work."
   ]
  },
  {
   "cell_type": "code",
   "execution_count": 3,
   "metadata": {
    "collapsed": true
   },
   "outputs": [],
   "source": [
    "from scipy import stats\n",
    "import numpy as np\n",
    "import pandas as pd\n",
    "import multiprocessing as mp\n",
    "import matplotlib.pyplot as plt\n",
    "%matplotlib inline\n",
    "import seaborn as sns\n",
    "sns.set()\n",
    "plt.style.use('seaborn-talk')"
   ]
  },
  {
   "cell_type": "markdown",
   "metadata": {},
   "source": [
    "Now that we have loaded some default python libraries for datascience, let's work upon the dataset analysis. To do this, let's first open the input file into a pandas dataframe named properties."
   ]
  },
  {
   "cell_type": "code",
   "execution_count": 5,
   "metadata": {},
   "outputs": [],
   "source": [
    "properties = pd.read_csv(\"properties.csv\", sep=',')"
   ]
  },
  {
   "cell_type": "markdown",
   "metadata": {},
   "source": [
    "Let's verify if the file was correctly loaded by showing up the amount of lines and columns for the file. Then let's verify how this dataset looks like by observing the set of features that compose each individual sample."
   ]
  },
  {
   "cell_type": "code",
   "execution_count": 17,
   "metadata": {},
   "outputs": [
    {
     "name": "stdout",
     "output_type": "stream",
     "text": [
      "Lines: 176081, columns: 8\n"
     ]
    },
    {
     "data": {
      "text/html": [
       "<div>\n",
       "<table border=\"1\" class=\"dataframe\">\n",
       "  <thead>\n",
       "    <tr style=\"text-align: right;\">\n",
       "      <th></th>\n",
       "      <th>apn</th>\n",
       "      <th>zip_code</th>\n",
       "      <th>property_type</th>\n",
       "      <th>lot</th>\n",
       "      <th>sqft</th>\n",
       "      <th>beds</th>\n",
       "      <th>baths</th>\n",
       "      <th>price</th>\n",
       "    </tr>\n",
       "  </thead>\n",
       "  <tbody>\n",
       "    <tr>\n",
       "      <th>0</th>\n",
       "      <td>06037-5782020007</td>\n",
       "      <td>91007</td>\n",
       "      <td>residential</td>\n",
       "      <td>20492.0</td>\n",
       "      <td>2991.0</td>\n",
       "      <td>4</td>\n",
       "      <td>2.5</td>\n",
       "      <td>2168000</td>\n",
       "    </tr>\n",
       "    <tr>\n",
       "      <th>1</th>\n",
       "      <td>06037-5436013020</td>\n",
       "      <td>90039</td>\n",
       "      <td>residential</td>\n",
       "      <td>6752.0</td>\n",
       "      <td>1533.0</td>\n",
       "      <td>3</td>\n",
       "      <td>2.0</td>\n",
       "      <td>898000</td>\n",
       "    </tr>\n",
       "    <tr>\n",
       "      <th>2</th>\n",
       "      <td>06037-2549013007</td>\n",
       "      <td>91040</td>\n",
       "      <td>residential</td>\n",
       "      <td>38757.0</td>\n",
       "      <td>3146.0</td>\n",
       "      <td>4</td>\n",
       "      <td>4.0</td>\n",
       "      <td>998999</td>\n",
       "    </tr>\n",
       "    <tr>\n",
       "      <th>3</th>\n",
       "      <td>06059-03318106</td>\n",
       "      <td>92831</td>\n",
       "      <td>residential</td>\n",
       "      <td>6375.0</td>\n",
       "      <td>1364.0</td>\n",
       "      <td>3</td>\n",
       "      <td>1.0</td>\n",
       "      <td>549000</td>\n",
       "    </tr>\n",
       "    <tr>\n",
       "      <th>4</th>\n",
       "      <td>06059-93279051</td>\n",
       "      <td>92637</td>\n",
       "      <td>residential</td>\n",
       "      <td>1700.0</td>\n",
       "      <td>1592.0</td>\n",
       "      <td>3</td>\n",
       "      <td>2.0</td>\n",
       "      <td>699999</td>\n",
       "    </tr>\n",
       "  </tbody>\n",
       "</table>\n",
       "</div>"
      ],
      "text/plain": [
       "                apn zip_code property_type      lot    sqft  beds  baths  \\\n",
       "0  06037-5782020007    91007   residential  20492.0  2991.0     4    2.5   \n",
       "1  06037-5436013020    90039   residential   6752.0  1533.0     3    2.0   \n",
       "2  06037-2549013007    91040   residential  38757.0  3146.0     4    4.0   \n",
       "3    06059-03318106    92831   residential   6375.0  1364.0     3    1.0   \n",
       "4    06059-93279051    92637   residential   1700.0  1592.0     3    2.0   \n",
       "\n",
       "     price  \n",
       "0  2168000  \n",
       "1   898000  \n",
       "2   998999  \n",
       "3   549000  \n",
       "4   699999  "
      ]
     },
     "execution_count": 17,
     "metadata": {},
     "output_type": "execute_result"
    }
   ],
   "source": [
    "print(\"Lines: %s, columns: %s\" % properties.shape)\n",
    "properties.head(5)"
   ]
  },
  {
   "cell_type": "markdown",
   "metadata": {},
   "source": [
    "As we can observe above, this dataset contains over 176 thousand samples. The set of features that describes the dataset are:\n",
    "* apn: This feature is the property identifier.\n",
    "* zip_code: This feature refers to the region of a given property.\n",
    "* property_type: This feature indentifies the king of property\n",
    "* lot: This feature is the are of the lot\n",
    "* sqft: This feature describes the square feet of the residence\n",
    "* beds: This refers to the amount of beds in the apartment\n",
    "* baths: This is basically the kinds of bathrooms. This value is the sum of individual bathrooms.\n",
    "* price: This is the price for each individual apartment."
   ]
  },
  {
   "cell_type": "markdown",
   "metadata": {},
   "source": [
    "Now let's try to infer some statistics regarding this dataset."
   ]
  },
  {
   "cell_type": "code",
   "execution_count": null,
   "metadata": {
    "collapsed": true
   },
   "outputs": [],
   "source": []
  }
 ],
 "metadata": {
  "kernelspec": {
   "display_name": "Python 3",
   "language": "python",
   "name": "python3"
  },
  "language_info": {
   "codemirror_mode": {
    "name": "ipython",
    "version": 3
   },
   "file_extension": ".py",
   "mimetype": "text/x-python",
   "name": "python",
   "nbconvert_exporter": "python",
   "pygments_lexer": "ipython3",
   "version": "3.6.0"
  }
 },
 "nbformat": 4,
 "nbformat_minor": 2
}
